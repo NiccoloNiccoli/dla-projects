{
 "cells": [
  {
   "cell_type": "code",
   "execution_count": 75,
   "metadata": {},
   "outputs": [
    {
     "name": "stdout",
     "output_type": "stream",
     "text": [
      "tensor([[[7, 7, 7, 8, 8, 7, 7],\n",
      "         [7, 7, 5, 8, 8, 7, 7],\n",
      "         [7, 7, 5, 5, 5, 7, 7],\n",
      "         [7, 7, 5, 5, 8, 7, 7],\n",
      "         [7, 7, 7, 7, 5, 7, 7],\n",
      "         [7, 7, 7, 7, 5, 7, 7],\n",
      "         [7, 7, 7, 5, 7, 7, 7]],\n",
      "\n",
      "        [[7, 7, 7, 7, 7, 1, 8],\n",
      "         [7, 7, 7, 7, 7, 5, 5],\n",
      "         [7, 7, 7, 7, 5, 5, 7],\n",
      "         [7, 7, 7, 7, 8, 8, 7],\n",
      "         [7, 7, 7, 7, 7, 8, 7],\n",
      "         [7, 7, 7, 7, 7, 5, 8],\n",
      "         [7, 7, 7, 7, 5, 5, 7]],\n",
      "\n",
      "        [[7, 7, 8, 8, 7, 7, 7],\n",
      "         [7, 1, 5, 5, 7, 7, 7],\n",
      "         [7, 7, 5, 7, 7, 7, 7],\n",
      "         [7, 7, 8, 8, 7, 7, 7],\n",
      "         [7, 7, 8, 8, 7, 7, 7],\n",
      "         [7, 7, 1, 8, 7, 7, 7],\n",
      "         [7, 7, 5, 5, 7, 7, 7]]]) 3\n",
      "tensor([5, 7, 8]) tensor([ 9, 35,  5])\n",
      "tensor([7, 5])\n",
      "[tensor([5, 2, 9]), tensor([1, 3, 5])]\n",
      "tensor([1, 5, 7, 8]) tensor([ 1,  7, 36,  5])\n",
      "tensor([7, 5])\n",
      "[tensor([5, 2, 9]), tensor([1, 3, 5])]\n",
      "tensor([1, 5, 7, 8]) tensor([ 2,  5, 35,  7])\n",
      "tensor([7, 8])\n",
      "[tensor([5, 2, 9]), tensor([1, 3, 5])]\n"
     ]
    }
   ],
   "source": [
    "from modifiedMNIST import ModifiedMNIST\n",
    "from torchvision import transforms\n",
    "from torch.utils.data import DataLoader\n",
    "from models import FullyConvolutionalNN\n",
    "import torch\n",
    "\n",
    "test_transform = transforms.Compose([\n",
    "        transforms.ToTensor(),\n",
    "        transforms.Normalize((0.1307,), (0.3081,))\n",
    "    ])\n",
    "\n",
    "# create dataset\n",
    "dataset = ModifiedMNIST(root='./data', train=True, download=True, transform=test_transform)\n",
    "dl = DataLoader(dataset, batch_size=3, shuffle=True)\n",
    "\n",
    "model = FullyConvolutionalNN(1, 10)\n",
    "\n",
    "for x,y in dl:\n",
    "    pred = model(x)\n",
    "    pred = pred.argmax(dim=1)\n",
    "    print(pred, len(pred))\n",
    "    for i in range(len(pred)):\n",
    "        unique_elements, counts = torch.unique(pred[i], return_counts=True)\n",
    "        print(unique_elements, counts)\n",
    "        sorted_indices = torch.argsort(counts, descending=True)\n",
    "        print(unique_elements[sorted_indices[:2]])\n",
    "        print(y)\n",
    "    break"
   ]
  }
 ],
 "metadata": {
  "kernelspec": {
   "display_name": "dla",
   "language": "python",
   "name": "python3"
  },
  "language_info": {
   "codemirror_mode": {
    "name": "ipython",
    "version": 3
   },
   "file_extension": ".py",
   "mimetype": "text/x-python",
   "name": "python",
   "nbconvert_exporter": "python",
   "pygments_lexer": "ipython3",
   "version": "3.12.2"
  }
 },
 "nbformat": 4,
 "nbformat_minor": 2
}
