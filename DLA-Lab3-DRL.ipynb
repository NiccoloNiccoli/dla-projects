{
 "cells": [
  {
   "cell_type": "markdown",
   "id": "8a7b15d7",
   "metadata": {},
   "source": [
    "```TODO: fare log della lunghezza dell'episodio, ogni episodio (praticamente insieme alla running avg loggare anche len(episode))```"
   ]
  },
  {
   "cell_type": "markdown",
   "id": "dc07d621",
   "metadata": {},
   "source": [
    "```TODO: Rendere opzionale la visualizzazione ```"
   ]
  },
  {
   "cell_type": "markdown",
   "id": "f6ae2782-57ea-48f0-b948-b412d0076ffc",
   "metadata": {},
   "source": [
    "# Deep Reinforcement Learning Laboratory\n",
    "\n",
    "In this laboratory session we will work on getting more advanced versions of Deep Reinforcement Learning algorithms up and running. Deep Reinforcement Learning is **hard**, and getting agents to stably train can be frustrating and requires quite a bit of subtlety in analysis of intermediate results. We will start by refactoring (a bit) my implementation of `REINFORCE` on the [Cartpole environment](https://gymnasium.farama.org/environments/classic_control/cart_pole/). "
   ]
  },
  {
   "cell_type": "markdown",
   "id": "3fadaf0c-f9b2-4680-8456-0eadb5eb8c2f",
   "metadata": {},
   "source": [
    "## Exercise 1: Improving my `REINFORCE` Implementation (warm up)\n",
    "\n",
    "In this exercise we will refactor a bit and improve some aspects of my `REINFORCE` implementation. \n",
    "\n",
    "**First Things First**: Spend some time playing with the environment to make sure you understand how it works."
   ]
  },
  {
   "cell_type": "code",
   "execution_count": 1,
   "id": "241e9bdc-7aa9-4a12-a57f-088fdc87eab6",
   "metadata": {},
   "outputs": [],
   "source": [
    "import gymnasium as gym\n",
    "import torch\n",
    "import torch.nn as nn\n",
    "import torch.optim as optim\n",
    "import torch.nn.functional as F\n",
    "import numpy as np\n",
    "from torch.distributions import Categorical\n",
    "import matplotlib.pyplot as plt\n",
    "# Instantiate a rendering and a non-rendering environment.\n",
    "env_render = gym.make('CartPole-v1', render_mode='human')\n",
    "env = gym.make('CartPole-v1')"
   ]
  },
  {
   "cell_type": "code",
   "execution_count": 3,
   "id": "cbd2dd9d-a60b-4892-878f-d83f64ac5f63",
   "metadata": {
    "tags": []
   },
   "outputs": [
    {
     "name": "stdout",
     "output_type": "stream",
     "text": [
      "[-0.03797098  0.03580978  0.02704508  0.03921853]\n",
      "(4,)\n",
      "Box([-4.8000002e+00 -3.4028235e+38 -4.1887903e-01 -3.4028235e+38], [4.8000002e+00 3.4028235e+38 4.1887903e-01 3.4028235e+38], (4,), float32)\n",
      "Discrete(2)\n"
     ]
    }
   ],
   "source": [
    "# Your code here. Call .reset() on the environment and inspect the output. Also, check out the observation_space.\n",
    "(obs, info) = env.reset()\n",
    "print(obs)\n",
    "print(obs.shape)\n",
    "print(env.observation_space)\n",
    "print(env.action_space)"
   ]
  },
  {
   "cell_type": "markdown",
   "id": "0ae31dce-be71-4a86-95fd-1af902f026b8",
   "metadata": {},
   "source": [
    "**Next Things Next**: Now get your `REINFORCE` implementation working on the environment. You can import my (probably buggy and definitely inefficient) implementation here. Or even better, refactor an implementation into a separate package from which you can `import` the stuff you need here. "
   ]
  },
  {
   "cell_type": "code",
   "execution_count": 10,
   "id": "70490822-2859-4787-bf00-3084ad48252a",
   "metadata": {
    "jupyter": {
     "source_hidden": true
    }
   },
   "outputs": [],
   "source": [
    "# Your code here. You should be able to train an agent to solve Cartpole. This will be our starting point."
   ]
  },
  {
   "cell_type": "code",
   "execution_count": 18,
   "id": "bef35233",
   "metadata": {},
   "outputs": [],
   "source": [
    "# A simple, but generic, policy network with one hidden layer.\n",
    "class PolicyNet(nn.Module):\n",
    "    def __init__(self, env):\n",
    "        super().__init__()\n",
    "        self.fc1 = nn.Linear(env.observation_space.shape[0], 16)\n",
    "        self.fc2 = nn.Linear(16, env.action_space.n)\n",
    "        self.relu = nn.ReLU()\n",
    "        \n",
    "    def forward(self, s):\n",
    "        s = F.relu(self.fc1(s))\n",
    "        s = F.softmax(self.fc2(s), dim=-1)\n",
    "        return s\n"
   ]
  },
  {
   "cell_type": "code",
   "execution_count": 19,
   "id": "72c17e6b",
   "metadata": {},
   "outputs": [],
   "source": [
    "# A simple, but generic, policy network with one hidden layer.\n",
    "class ValueNet(nn.Module):\n",
    "    def __init__(self, env):\n",
    "        super().__init__()\n",
    "        self.fc1 = nn.Linear(env.observation_space.shape[0], 16)\n",
    "        self.fc2 = nn.Linear(16, 1)\n",
    "        self.relu = nn.ReLU()\n",
    "        \n",
    "    def forward(self, s):\n",
    "        s = F.relu(self.fc1(s))\n",
    "        s = self.fc2(s)\n",
    "        return s"
   ]
  },
  {
   "cell_type": "code",
   "execution_count": 20,
   "id": "edabead7",
   "metadata": {},
   "outputs": [],
   "source": [
    "# Given an environment, observation, and policy, sample from pi(a | obs). Returns the\n",
    "# selected action and the log probability of that action (needed for policy gradient).\n",
    "def select_action(env, obs, policy):\n",
    "    dist = Categorical(policy(obs))\n",
    "    action = dist.sample()\n",
    "    log_prob = dist.log_prob(action)\n",
    "    return (action.item(), log_prob.reshape(1))\n",
    "\n",
    "# Utility to compute the discounted total reward. Torch doesn't like flipped arrays, so we need to\n",
    "# .copy() the final numpy array. There's probably a better way to do this.\n",
    "def compute_returns(rewards, gamma):\n",
    "    return np.flip(np.cumsum([gamma**(i+1)*r for (i, r) in enumerate(rewards)][::-1]), 0).copy()\n",
    "\n",
    "# Given an environment and a policy, run it up to the maximum number of steps.\n",
    "def run_episode(env, policy, maxlen=500):\n",
    "    # Collect just about everything.\n",
    "    observations = []\n",
    "    actions = []\n",
    "    log_probs = []\n",
    "    rewards = []\n",
    "    \n",
    "    # Reset the environment and start the episode.\n",
    "    (obs, info) = env.reset()\n",
    "    for i in range(maxlen):\n",
    "        # Get the current observation, run the policy and select an action.\n",
    "        obs = torch.tensor(obs)\n",
    "        (action, log_prob) = select_action(env, obs, policy)\n",
    "        observations.append(obs)\n",
    "        actions.append(action)\n",
    "        log_probs.append(log_prob)\n",
    "        \n",
    "        # Advance the episode by executing the selected action.\n",
    "        (obs, reward, term, trunc, info) = env.step(action)\n",
    "        rewards.append(reward)\n",
    "        if term or trunc:\n",
    "            break\n",
    "    return (observations, actions, torch.cat(log_probs), rewards)"
   ]
  },
  {
   "cell_type": "code",
   "execution_count": 21,
   "id": "0ab6b9c1",
   "metadata": {},
   "outputs": [],
   "source": [
    "# XXX For reinforce with baseline XXX \n",
    "# Given an environment, observation, and policy, sample from pi(a | obs). Returns the\n",
    "# selected action and the log probability of that action (needed for policy gradient).\n",
    "def select_action(env, obs, policy):\n",
    "    dist = Categorical(policy(obs))\n",
    "    action = dist.sample()\n",
    "    log_prob = dist.log_prob(action)\n",
    "    return (action.item(), log_prob.reshape(1))\n",
    "\n",
    "# Utility to compute the discounted total reward. Torch doesn't like flipped arrays, so we need to\n",
    "# .copy() the final numpy array. There's probably a better way to do this.\n",
    "def compute_returns(rewards, gamma):\n",
    "    return np.flip(np.cumsum([gamma**(i+1)*r for (i, r) in enumerate(rewards)][::-1]), 0).copy()\n",
    "\n",
    "# Given an environment and a policy, run it up to the maximum number of steps.\n",
    "def run_episode(env, policy, value_net, maxlen=500):\n",
    "    # Collect just about everything.\n",
    "    observations = []\n",
    "    actions = []\n",
    "    log_probs = []\n",
    "    rewards = []\n",
    "    values = []\n",
    "    \n",
    "    # Reset the environment and start the episode.\n",
    "    (obs, info) = env.reset()\n",
    "    for i in range(maxlen):\n",
    "        # Get the current observation, run the policy and select an action.\n",
    "        obs = torch.tensor(obs)\n",
    "        (action, log_prob) = select_action(env, obs, policy)\n",
    "        value = value_net(obs)\n",
    "        observations.append(obs)\n",
    "        actions.append(action)\n",
    "        log_probs.append(log_prob)\n",
    "        values.append(value)\n",
    "        \n",
    "        # Advance the episode by executing the selected action.\n",
    "        (obs, reward, term, trunc, info) = env.step(action)\n",
    "        rewards.append(reward)\n",
    "        if term or trunc:\n",
    "            break\n",
    "    return (observations, actions, torch.cat(log_probs), rewards, values)"
   ]
  },
  {
   "cell_type": "code",
   "execution_count": 99,
   "id": "7fed653b",
   "metadata": {},
   "outputs": [],
   "source": [
    "# XXX Questo codice funziona con la rete neurale PolicyNetWithBaseline XXX\n",
    "# Given an environment, observation, and policy, sample from pi(a | obs). Returns the\n",
    "# selected action and the log probability of that action (needed for policy gradient).\n",
    "if False:\n",
    "    def select_action(env, obs, policy):\n",
    "        p, value = policy(obs)\n",
    "        dist = Categorical(p)\n",
    "        action = dist.sample()\n",
    "        log_prob = dist.log_prob(action)\n",
    "        return (action.item(), log_prob.reshape(1), value)\n",
    "\n",
    "    # Utility to compute the discounted total reward. Torch doesn't like flipped arrays, so we need to\n",
    "    # .copy() the final numpy array. There's probably a better way to do this.\n",
    "    def compute_returns(rewards, gamma):\n",
    "        return np.flip(np.cumsum([gamma**(i+1)*r for (i, r) in enumerate(rewards)][::-1]), 0).copy()\n",
    "\n",
    "    # Given an environment and a policy, run it up to the maximum number of steps.\n",
    "    def run_episode(env, policy, maxlen=500):\n",
    "        # Collect just about everything.\n",
    "        observations = []\n",
    "        actions = []\n",
    "        log_probs = []\n",
    "        rewards = []\n",
    "        values = []\n",
    "        \n",
    "        # Reset the environment and start the episode.\n",
    "        (obs, info) = env.reset()\n",
    "        for i in range(maxlen):\n",
    "            # Get the current observation, run the policy and select an action.\n",
    "            obs = torch.tensor(obs)\n",
    "            (action, log_prob, value) = select_action(env, obs, policy)\n",
    "            observations.append(obs)\n",
    "            actions.append(action)\n",
    "            log_probs.append(log_prob)\n",
    "            values.append(value)\n",
    "            \n",
    "            # Advance the episode by executing the selected action.\n",
    "            (obs, reward, term, trunc, info) = env.step(action)\n",
    "            rewards.append(reward)\n",
    "            if term or trunc:\n",
    "                break\n",
    "        return (observations, actions, torch.cat(log_probs), rewards, values)"
   ]
  },
  {
   "cell_type": "code",
   "execution_count": 23,
   "id": "9466f291",
   "metadata": {},
   "outputs": [],
   "source": [
    "# A direct, inefficient, and probably buggy of the REINFORCE policy gradient algorithm.\n",
    "def reinforce(policy, value_net, env, env_render=None, gamma=0.99, num_episodes=10, test_every = 100, test_episodes = 10, baseline = True, standardize_returns=True):\n",
    "    # The only non-vanilla part: we use Adam instead of SGD.\n",
    "    opt = torch.optim.Adam(policy.parameters(), lr=1e-2)\n",
    "\n",
    "    # Track episode rewards in a list.\n",
    "    running_rewards = [0.0]\n",
    "\n",
    "    #\n",
    "    avg_rewards = []\n",
    "    avg_episode_lengths = []\n",
    "    \n",
    "    # The main training loop.\n",
    "    policy.train()\n",
    "    for episode in range(num_episodes):\n",
    "        # Run an episode of the environment, collect everything needed for policy update.\n",
    "        if baseline:\n",
    "            (observations, actions, log_probs, rewards, values) = run_episode(env, policy, value_net)\n",
    "            values = torch.tensor(values, dtype=torch.float32)\n",
    "        else:\n",
    "            (observations, actions, log_probs, rewards) = run_episode(env, policy)\n",
    "        \n",
    "        # Compute the discounted reward for every step of the episode. \n",
    "        returns = torch.tensor(compute_returns(rewards, gamma), dtype=torch.float32)\n",
    "\n",
    "        \n",
    "        # Keep a running average of total discounted rewards for the whole episode.\n",
    "        running_rewards.append(0.05 * returns[0].item() + 0.95 * running_rewards[-1])\n",
    "\n",
    "        # TODO log episode length\n",
    "        # episode_length = len(rewards)\n",
    "        \n",
    "        # Standardize returns. Baseline più semplice. Si fa perché siccome il numero di passi dipende da episodio a episodio\n",
    "        # la scala dei rewards può variare molto.\n",
    "        if standardize_returns and not baseline:\n",
    "            returns = (returns - returns.mean()) / returns.std()\n",
    "        if baseline:\n",
    "            targets = returns - values\n",
    "        else:\n",
    "            targets = returns\n",
    "                    \n",
    "        # Make an optimization step\n",
    "        opt.zero_grad()\n",
    "        loss = (-log_probs * targets).mean()\n",
    "        if baseline:\n",
    "            loss_value = F.mse_loss(returns, values)\n",
    "            loss += loss_value\n",
    "        loss.backward()\n",
    "        opt.step()\n",
    "        \n",
    "        # Render an episode after every 100 policy updates.\n",
    "        # XXX qui ci sarebbe da valutare, ogni N episodi, come si comporta la policy per M episodi (tipo N = 100, M = 10)\n",
    "        if (episode + 1) % test_every == 0:\n",
    "            rewards = []\n",
    "            episode_lengths = []\n",
    "            policy.eval()\n",
    "            value_net.eval()\n",
    "            for ep in range(test_episodes):\n",
    "                if baseline:\n",
    "                    (_, _, _, reward, _) = run_episode(env_render, policy, value_net)\n",
    "                else:\n",
    "                    (_, _, _, reward) = run_episode(env_render, policy)\n",
    "                # compute the avg reward on rewards\n",
    "                rewards.append(np.sum(reward))\n",
    "                # print(np.sum(reward))\n",
    "                episode_length = len(reward)\n",
    "                episode_lengths.append(episode_length)\n",
    "                # print(len(reward))\n",
    "            print(f'Average reward: {np.mean(rewards)}')\n",
    "            print(f'Average episode length: {np.mean(episode_lengths)}')\n",
    "            avg_rewards.append(np.mean(rewards))\n",
    "            avg_episode_lengths.append(np.mean(episode_lengths))\n",
    "            policy.train()\n",
    "            value_net.train()\n",
    "        # if not episode % 100:\n",
    "          #  policy.eval()\n",
    "          #  (obs, _, _, _) = run_episode(env_render, policy)\n",
    "          #  policy.train()\n",
    "          #  print(f'Running reward: {running_rewards[-1]}')\n",
    "    \n",
    "    # Return the running rewards.\n",
    "    policy.eval()\n",
    "    return running_rewards, avg_rewards, avg_episode_lengths"
   ]
  },
  {
   "cell_type": "code",
   "execution_count": 11,
   "id": "56f4a65c",
   "metadata": {},
   "outputs": [],
   "source": [
    "# Instantiate a (rendering) CartPole environment.\n",
    "env_render = gym.make('CartPole-v1', render_mode='human')\n",
    "\n",
    "# Make a policy network and run a few episodes to see how well random initialization works.\n",
    "policy = PolicyNet(env_render)\n",
    "value = ValueNet(env)\n",
    "for _ in range(10):\n",
    "    run_episode(env_render, policy, value)\n",
    "    \n",
    "# If you don't close the environment, the PyGame window stays visible.\n",
    "env_render.close()"
   ]
  },
  {
   "cell_type": "code",
   "execution_count": null,
   "id": "fd6922b5",
   "metadata": {},
   "outputs": [],
   "source": [
    "# In the new version of Gymnasium you need different environments for rendering and no rendering.\n",
    "# Here we instaintiate two versions of cartpole, one that animates the episodes (which slows everything\n",
    "# down), and another that does not animate.\n",
    "env = gym.make('CartPole-v1')\n",
    "env_render = gym.make('CartPole-v1', render_mode='human')\n",
    "\n",
    "# Make a policy network.\n",
    "baseline = True\n",
    "if baseline:\n",
    "    policy = PolicyNet(env)\n",
    "    value_net = ValueNet(env)\n",
    "else:\n",
    "    policy = PolicyNet(env)\n",
    "\n",
    "# Train the agent.\n",
    "num_episodes = 2000\n",
    "N = 100\n",
    "running_rewards, avg_rewards, avg_episode_lengths = reinforce(policy, value_net, env, env_render, num_episodes=num_episodes, baseline = baseline, test_every= N, test_episodes=10)\n",
    "print(\"Running rewards\")\n",
    "plt.plot(running_rewards)\n",
    "plt.show()\n",
    "\n",
    "print(\"Avg rewards\")\n",
    "# on the x range(1, 200, 100), on the y the avg_rewards\n",
    "plt.plot(range(N, num_episodes+1, N), avg_rewards)\n",
    "plt.show()\n",
    "\n",
    "print(\"Avg episode lengths\")\n",
    "plt.plot(range(N, num_episodes+1, N), avg_episode_lengths)\n",
    "plt.show()\n",
    "\n",
    "# Close up everything\n",
    "env_render.close()\n",
    "env.close()"
   ]
  },
  {
   "cell_type": "markdown",
   "id": "18b8a90f-78ed-4f43-9d66-aeba7c74fe2c",
   "metadata": {},
   "source": [
    "**Last Things Last**: My implementation does a **super crappy** job of evaluating the agent performance during training. The running average is not a very good metric. Modify my implementation so that every $N$ iterations (make $N$ an argument to the training function) the agent is run for $M$ episodes in the environment. Collect and return: (1) The average **total** reward received over the $M$ iterations; and (2) the average episode length. \n",
    "``` DONE: Compute average episode length. Analyze the performance of your agents with these new metrics.```"
   ]
  },
  {
   "cell_type": "code",
   "execution_count": 14,
   "id": "3c722e50-f882-430f-903e-8a97d38bd0ec",
   "metadata": {},
   "outputs": [],
   "source": [
    "# Your code here."
   ]
  },
  {
   "cell_type": "markdown",
   "id": "2a5adad7-759b-4000-925b-701f41fe6e97",
   "metadata": {},
   "source": [
    "-----\n",
    "## Exercise 2: `REINFORCE` with a Value Baseline (warm up)\n",
    "\n",
    "In this exercise we will augment my implementation (or your own) of `REINFORCE` to subtract a baseline from the target in the update equation in order to stabilize (and hopefully speed-up) convergence. For now we will stick to the Cartpole environment.\n",
    "\n"
   ]
  },
  {
   "cell_type": "code",
   "execution_count": null,
   "id": "d8b8cf76-5d39-45e9-8d7d-324125c04b4a",
   "metadata": {
    "tags": []
   },
   "outputs": [],
   "source": []
  },
  {
   "cell_type": "markdown",
   "id": "8cdd5bc3-a439-4d84-891b-f4a840331e07",
   "metadata": {},
   "source": [
    "**First Things First**: Recall from the slides on Deep Reinforcement Learning that we can **subtract** any function that doesn't depend on the current action from the q-value without changing the (maximum of our) objecttive function $J$:  \n",
    "\n",
    "$$ \\nabla J(\\boldsymbol{\\theta}) \\propto \\sum_{s} \\mu(s) \\sum_a \\left( q_{\\pi}(s, a) - b(s) \\right) \\nabla \\pi(a \\mid s, \\boldsymbol{\\theta}) $$\n",
    "\n",
    "In `REINFORCE` this means we can subtract from our target $G_t$:\n",
    "\n",
    "$$ \\boldsymbol{\\theta}_{t+1} \\triangleq \\boldsymbol{\\theta}_t + \\alpha (G_t - b(S_t)) \\frac{\\nabla \\pi(A_t \\mid s, \\boldsymbol{\\theta})}{\\pi(A_t \\mid s, \\boldsymbol{\\theta})} $$\n",
    "\n",
    "Since we are only interested in the **maximum** of our objective, we can also **rescale** our target by any function that also doesn't depend on the action. A **simple baseline** which is even independent of the state -- that is, it is **constant** for each episode -- is to just **standardize rewards within the episode**. So, we **subtract** the average return and **divide** by the variance of returns:\n",
    "\n",
    "$$ \\boldsymbol{\\theta}_{t+1} \\triangleq \\boldsymbol{\\theta}_t + \\alpha \\left(\\frac{G_t - \\bar{G}}{\\sigma_G}\\right) \\nabla  \\pi(A_t \\mid s, \\boldsymbol{\\theta}) $$\n",
    "\n",
    "This baseline is **already** implemented in my implementation of `REINFORCE`. Experiment with and without this standardization baseline and compare the performance. We are going to do something more interesting."
   ]
  },
  {
   "cell_type": "markdown",
   "id": "a3a8eca3",
   "metadata": {},
   "source": [
    "```TODO: da fare ma non troppo difficile -> c'è già tutto basta scrivere l'esperimento```"
   ]
  },
  {
   "cell_type": "code",
   "execution_count": null,
   "id": "faf5b245-9369-4ed9-b5f4-3a52bb975d3f",
   "metadata": {},
   "outputs": [],
   "source": [
    "# Your code here. Modify your implementation of `REINFORCE` to optionally use the standardize baseline.\n"
   ]
  },
  {
   "cell_type": "markdown",
   "id": "46cfde8e-f1c7-4d96-85e0-268f687e09df",
   "metadata": {},
   "source": [
    "**The Real Exercise**: Standard practice is to use the state-value function $v(s)$ as a baseline. This is intuitively appealing -- we are more interested in updating out policy for returns that estimate the current **value** worse. Our new update becomes:\n",
    "\n",
    "$$ \\boldsymbol{\\theta}_{t+1} \\triangleq \\boldsymbol{\\theta}_t + \\alpha (G_t - \\tilde{v}(S_t \\mid \\mathbf{w})) \\frac{\\nabla \\pi(A_t \\mid s, \\boldsymbol{\\theta})}{\\pi(A_t \\mid s, \\boldsymbol{\\theta})} $$\n",
    "\n",
    "where $\\tilde{v}(s \\mid \\mathbf{w})$ is a **deep neural network** with parameters $w$ that estimates $v_\\pi(s)$. What neural network? Typically, we use the **same** network architecture as that of the Policy.\n",
    "\n",
    "**Your Task**: Modify your implementation to fit a second, baseline network to estimate the value function and use it as **baseline**. "
   ]
  },
  {
   "cell_type": "code",
   "execution_count": 16,
   "id": "4de3a2a8-05c3-44e2-9858-8cc8f431325f",
   "metadata": {},
   "outputs": [],
   "source": [
    "# Your code here."
   ]
  },
  {
   "cell_type": "markdown",
   "id": "64bf1447-d222-4b24-a357-5b7f9824390c",
   "metadata": {},
   "source": [
    "-----\n",
    "## Exercise 3: Going Deeper\n",
    "\n",
    "As usual, pick **AT LEAST ONE** of the following exercises to complete.\n",
    "\n",
    "### Exercise 3.1: Solving Lunar Lander with `REINFORCE` (easy)\n",
    "\n",
    "Use my (or even better, improve on my) implementation of `REINFORCE` to solve the [Lunar Lander Environment](https://gymnasium.farama.org/environments/box2d/lunar_lander/). This environment is a little bit harder than Cartpole, but not much. Make sure you perform the same types of analyses we did during the lab session to quantify and qualify the performance of your agents.\n",
    "\n",
    "### Exercise 3.2: Solving Cartpole and Lunar Lander with `Deep Q-Learning` (harder)\n",
    "\n",
    "On policy Deep Reinforcement Learning tends to be **very unstable**. Write an implementation (or adapt an existing one) of `Deep Q-Learning` to solve our two environments (Cartpole and Lunar Lander). To do this you will need to implement a **Replay Buffer** and use a second, slow-moving **target Q-Network** to stabilize learning.\n",
    "\n",
    "### Exercise 3.3: Solving the OpenAI CarRacing environment (hardest) \n",
    "\n",
    "Use `Deep Q-Learning` -- or even better, an off-the-shelf implementation of **Proximal Policy Optimization (PPO)** -- to train an agent to solve the [OpenAI CarRacing](https://github.com/andywu0913/OpenAI-GYM-CarRacing-DQN) environment. This will be the most *fun*, but also the most *difficult*. Some tips:\n",
    "\n",
    "1. Make sure you use the `continuous=False` argument to the environment constructor. This ensures that the action space is **discrete** (we haven't seen how to work with continuous action spaces).\n",
    "2. Your Q-Network will need to be a CNN. A simple one should do, with two convolutional + maxpool layers, folowed by a two dense layers. You will **definitely** want to use a GPU to train your agents.\n",
    "3. The observation space of the environment is a single **color image** (a single frame of the game). Most implementations stack multiple frames (e.g. 3) after converting them to grayscale images as an observation.\n",
    "\n",
    " "
   ]
  },
  {
   "cell_type": "code",
   "execution_count": 2,
   "id": "b0bfd126",
   "metadata": {},
   "outputs": [
    {
     "name": "stdout",
     "output_type": "stream",
     "text": [
      "Box([-1.5       -1.5       -5.        -5.        -3.1415927 -5.\n",
      " -0.        -0.       ], [1.5       1.5       5.        5.        3.1415927 5.        1.\n",
      " 1.       ], (8,), float32)\n",
      "Discrete(4)\n"
     ]
    }
   ],
   "source": [
    "# XXX Esercizio 1\n",
    "import wandb\n",
    "\n",
    "env = gym.make('LunarLander-v2')\n",
    "\n",
    "print(env.observation_space)\n",
    "print(env.action_space)"
   ]
  },
  {
   "cell_type": "code",
   "execution_count": 4,
   "id": "6e605cc2",
   "metadata": {},
   "outputs": [],
   "source": [
    "class LunarPolicyNet(nn.Module):\n",
    "    def __init__(self, env, hidden_size1=512, hidden_size2=128):\n",
    "        super().__init__()\n",
    "        self.fc1 = nn.Linear(env.observation_space.shape[0], hidden_size1)\n",
    "        self.fc2 = nn.Linear(hidden_size1, hidden_size2)\n",
    "        self.fc3 = nn.Linear(hidden_size2, env.action_space.n)\n",
    "        self.relu = nn.ReLU()\n",
    "        \n",
    "    def forward(self, s):\n",
    "        s = F.relu(self.fc1(s))\n",
    "        s = F.relu(self.fc2(s))\n",
    "        s = F.softmax(self.fc3(s), dim=-1)\n",
    "        return s"
   ]
  },
  {
   "cell_type": "code",
   "execution_count": 66,
   "id": "6cdcbecb",
   "metadata": {},
   "outputs": [],
   "source": [
    "class LunarValueNet(nn.Module):\n",
    "    def __init__(self, env, hidden_size1=512, hidden_size2=128):\n",
    "        super().__init__()\n",
    "        self.fc1 = nn.Linear(env.observation_space.shape[0], hidden_size1)\n",
    "        self.fc2 = nn.Linear(hidden_size1, hidden_size2)\n",
    "        self.fc3 = nn.Linear(hidden_size2, 1)\n",
    "        self.relu = nn.ReLU()\n",
    "        \n",
    "    def forward(self, s):\n",
    "        s = F.relu(self.fc1(s))\n",
    "        s = F.relu(self.fc2(s))\n",
    "        s = self.fc3(s)\n",
    "        return s"
   ]
  },
  {
   "cell_type": "code",
   "execution_count": 8,
   "id": "32eb0886",
   "metadata": {},
   "outputs": [],
   "source": [
    "class LunarPolicyNet(nn.Module):\n",
    "    def __init__(self, env, hidden_size1=16, hidden_size2=16):\n",
    "        super().__init__()\n",
    "        self.fc1 = nn.Linear(env.observation_space.shape[0], hidden_size1)\n",
    "        # self.fc15 = nn.Linear(hidden_size1, hidden_size1)\n",
    "        self.fc2 = nn.Linear(hidden_size1, hidden_size2)\n",
    "        # self.fc3 = nn.Linear(hidden_size2, hidden_size2)\n",
    "        self.fc4 = nn.Linear(hidden_size2, env.action_space.n)\n",
    "        self.relu = nn.ReLU()\n",
    "\n",
    "    def forward(self, s):\n",
    "        s = F.relu(self.fc1(s))\n",
    "        # s = F.relu(self.fc15(s))\n",
    "        s = F.relu(self.fc2(s))\n",
    "        # s = F.relu(self.fc3(s))\n",
    "        s = F.softmax(self.fc4(s), dim=-1)\n",
    "        return s\n",
    "    \n",
    "class LunarValueNet(nn.Module):\n",
    "    def __init__(self, env, hidden_size1=16, hidden_size2=16):\n",
    "        super().__init__()\n",
    "        self.fc1 = nn.Linear(env.observation_space.shape[0], hidden_size1)\n",
    "        # self.fc15 = nn.Linear(hidden_size1, hidden_size1)\n",
    "        self.fc2 = nn.Linear(hidden_size1, hidden_size2)\n",
    "        # self.fc3 = nn.Linear(hidden_size2, hidden_size2)\n",
    "        self.fc4 = nn.Linear(hidden_size2, 1)\n",
    "        self.relu = nn.ReLU()\n",
    "\n",
    "    def forward(self, s):\n",
    "        s = F.relu(self.fc1(s))\n",
    "        # s = F.relu(self.fc15(s))\n",
    "        s = F.relu(self.fc2(s))\n",
    "        # s = F.relu(self.fc3(s))\n",
    "        s = self.fc4(s)\n",
    "        return s"
   ]
  },
  {
   "cell_type": "code",
   "execution_count": 4,
   "id": "82a7f64a",
   "metadata": {},
   "outputs": [],
   "source": [
    "# XXX For reinforce with baseline XXX \n",
    "# Given an environment, observation, and policy, sample from pi(a | obs). Returns the\n",
    "# selected action and the log probability of that action (needed for policy gradient).\n",
    "import random\n",
    "def select_action(env, obs, policy):\n",
    "    # implement a temperature parameter, the higher the temperature, the more the policy will explore\n",
    "    dist = Categorical(policy(obs))\n",
    "    action = dist.sample()\n",
    "    log_prob = dist.log_prob(action)\n",
    "    return (action.item(), log_prob.reshape(1))\n",
    "\n",
    "# Utility to compute the discounted total reward. Torch doesn't like flipped arrays, so we need to\n",
    "# .copy() the final numpy array. There's probably a better way to do this.\n",
    "def compute_returns(rewards, gamma):\n",
    "    return np.flip(np.cumsum([gamma**(i+1)*r for (i, r) in enumerate(rewards)][::-1]), 0).copy()\n",
    "\n",
    "# Given an environment and a policy, run it up to the maximum number of steps.\n",
    "def run_episode(env, policy, value_net, maxlen=500):\n",
    "    # Collect just about everything.\n",
    "    observations = []\n",
    "    actions = []\n",
    "    log_probs = []\n",
    "    rewards = []\n",
    "    values = []\n",
    "    \n",
    "    # Reset the environment and start the episode.\n",
    "    (obs, info) = env.reset()\n",
    "    for i in range(maxlen):\n",
    "        # Get the current observation, run the policy and select an action.\n",
    "        obs = torch.tensor(obs)\n",
    "        (action, log_prob) = select_action(env, obs, policy)\n",
    "        value = value_net(obs)\n",
    "        observations.append(obs)\n",
    "        actions.append(action)\n",
    "        log_probs.append(log_prob)\n",
    "        values.append(value)\n",
    "        \n",
    "        # Advance the episode by executing the selected action.\n",
    "        (obs, reward, term, trunc, info) = env.step(action)\n",
    "        rewards.append(reward)\n",
    "        if term or trunc:\n",
    "            break\n",
    "    return (observations, actions, torch.cat(log_probs), rewards, values)"
   ]
  },
  {
   "cell_type": "code",
   "execution_count": 14,
   "id": "f3eb17be",
   "metadata": {},
   "outputs": [],
   "source": [
    "# A direct, inefficient, and probably buggy of the REINFORCE policy gradient algorithm.\n",
    "def reinforce(policy, value_net, env, env_render=None, gamma=0.99, num_episodes=10, test_every = 100, test_episodes = 10, baseline = True, standardize_returns=True, use_wandb = True):\n",
    "    # The only non-vanilla part: we use Adam instead of SGD.\n",
    "    # opt = torch.optim.AdamW(policy.parameters(), lr=0.0025, amsgrad=True)\n",
    "    opt = torch.optim.SGD(policy.parameters(), lr=1e-4)\n",
    "    if baseline:\n",
    "        # opt_value = torch.optim.AdamW(value_net.parameters(), lr=0.0025, amsgrad=True)\n",
    "        opt_value = torch.optim.SGD(value_net.parameters(), lr=1e-4)\n",
    "        scheduler_value = torch.optim.lr_scheduler.StepLR(opt_value, step_size=1000, gamma=0.9)\n",
    "    scheduler = torch.optim.lr_scheduler.StepLR(opt, step_size=1000, gamma=0.9)\n",
    "    if use_wandb:\n",
    "        wandb.init(project=\"lunar-lander\", config={\"baseline\" : baseline, \"gamma\" : gamma}, name=\"lunar-lander-baseline\" if baseline else \"lunar-lander-no-baseline\")\n",
    "\n",
    "    # Track episode rewards in a list.\n",
    "    running_rewards = [0.0]\n",
    "\n",
    "    #\n",
    "    avg_rewards = []\n",
    "    avg_episode_lengths = []\n",
    "    \n",
    "    # The main training loop.\n",
    "    policy.train()\n",
    "    value_net.train()\n",
    "    \n",
    "\n",
    "    for episode in range(num_episodes):\n",
    "        # Run an episode of the environment, collect everything needed for policy update.\n",
    "        if baseline:\n",
    "            (observations, actions, log_probs, rewards, values) = run_episode(env, policy, value_net)\n",
    "            values = torch.tensor(values, dtype=torch.float32)\n",
    "        else:\n",
    "            (observations, actions, log_probs, rewards) = run_episode(env, policy)\n",
    "        \n",
    "        # Compute the discounted reward for every step of the episode. \n",
    "        returns = torch.tensor(compute_returns(rewards, gamma), dtype=torch.float32)\n",
    "\n",
    "        \n",
    "        # Keep a running average of total discounted rewards for the whole episode.\n",
    "        running_rewards.append(0.05 * returns[0].item() + 0.95 * running_rewards[-1])\n",
    "\n",
    "        # TODO log episode length\n",
    "        # episode_length = len(rewards)\n",
    "        \n",
    "        # Standardize returns. Baseline più semplice. Si fa perché siccome il numero di passi dipende da episodio a episodio\n",
    "        # la scala dei rewards può variare molto.\n",
    "\n",
    "        returns = (returns - returns.mean()) / (returns.std() + 1e-9)\n",
    "\n",
    "        if standardize_returns and not baseline:\n",
    "            returns = (returns - returns.mean()) / returns.std()\n",
    "        if baseline:\n",
    "            targets = returns - values\n",
    "        else:\n",
    "            targets = returns\n",
    "                    \n",
    "        # Make an optimization step\n",
    "        opt.zero_grad()\n",
    "        loss = (-log_probs * targets).mean()\n",
    "        if baseline:\n",
    "            opt_value.zero_grad()\n",
    "            loss_value = F.mse_loss(returns, values)\n",
    "            loss_value.requires_grad = True\n",
    "            loss_value.backward()\n",
    "            torch.nn.utils.clip_grad_norm_(value_net.parameters(), max_norm=1)\n",
    "            opt_value.step()\n",
    "            loss += loss_value\n",
    "        loss.backward()\n",
    "        torch.nn.utils.clip_grad_norm_(policy.parameters(), max_norm=1)\n",
    "        opt.step()\n",
    "        if use_wandb:\n",
    "            wandb.log({\"episode_length\" : len(rewards), \"running_reward\" : running_rewards[-1]})\n",
    "    \n",
    "        # print(episode)\n",
    "        # Render an episode after every 100 policy updates.\n",
    "        # XXX qui ci sarebbe da valutare, ogni N episodi, come si comporta la policy per M episodi (tipo N = 100, M = 10)\n",
    "        if (episode + 1) % test_every == 0:\n",
    "            rewards = []\n",
    "            episode_lengths = []\n",
    "            policy.eval()\n",
    "            value_net.eval()\n",
    "            if (episode + 1) % 2000 == 0:\n",
    "                env_to_be_used = env_render\n",
    "            else:\n",
    "                env_to_be_used = env\n",
    "            for ep in range(test_episodes):\n",
    "                if baseline:\n",
    "                    (_, _, _, reward, _) = run_episode(env_to_be_used, policy, value_net)\n",
    "                else:\n",
    "                    (_, _, _, reward) = run_episode(env_to_be_used, policy)\n",
    "                # compute the avg reward on rewards\n",
    "                rewards.append(np.sum(reward))\n",
    "                # print(np.sum(reward))\n",
    "                episode_length = len(reward)\n",
    "                episode_lengths.append(episode_length)\n",
    "                # print(len(reward))\n",
    "            if use_wandb:\n",
    "                wandb.log({\"average_reward\" : np.mean(rewards), \"average_episode_length\" : np.mean(episode_lengths)})\n",
    "            print(f'Average reward: {np.mean(rewards)} @ episode {episode}')\n",
    "            print(f'Average episode length: {np.mean(episode_lengths)}')\n",
    "            \n",
    "            avg_rewards.append(np.mean(rewards))\n",
    "            avg_episode_lengths.append(np.mean(episode_lengths))\n",
    "            policy.train()\n",
    "            value_net.train()\n",
    "        # if not episode % 100:\n",
    "          #  policy.eval()\n",
    "          #  (obs, _, _, _) = run_episode(env_render, policy)\n",
    "          #  policy.train()\n",
    "          #  print(f'Running reward: {running_rewards[-1]}')\n",
    "        if baseline:\n",
    "            scheduler_value.step()\n",
    "        scheduler.step()\n",
    "    # Return the running rewards.\n",
    "    policy.eval()\n",
    "    if use_wandb:\n",
    "        wandb.finish()\n",
    "    return running_rewards, avg_rewards, avg_episode_lengths"
   ]
  },
  {
   "cell_type": "code",
   "execution_count": 15,
   "id": "caaae705",
   "metadata": {},
   "outputs": [
    {
     "data": {
      "text/html": [
       "Finishing last run (ID:f6d16aht) before initializing another..."
      ],
      "text/plain": [
       "<IPython.core.display.HTML object>"
      ]
     },
     "metadata": {},
     "output_type": "display_data"
    },
    {
     "data": {
      "text/html": [
       "<style>\n",
       "    table.wandb td:nth-child(1) { padding: 0 10px; text-align: left ; width: auto;} td:nth-child(2) {text-align: left ; width: 100%}\n",
       "    .wandb-row { display: flex; flex-direction: row; flex-wrap: wrap; justify-content: flex-start; width: 100% }\n",
       "    .wandb-col { display: flex; flex-direction: column; flex-basis: 100%; flex: 1; padding: 10px; }\n",
       "    </style>\n",
       "<div class=\"wandb-row\"><div class=\"wandb-col\"><h3>Run history:</h3><br/><table class=\"wandb\"><tr><td>average_episode_length</td><td>▅▃▁█▁▅▄</td></tr><tr><td>average_reward</td><td>▆▆▇▁▄█▅</td></tr><tr><td>episode_length</td><td>▄▆▇▁▂▂▅▅▁▃▂▅▅▆▆▅▂▆▆▃▅▂▂▄▃█▄▂▄▇▃▆▆▃▄▃▂▂▁▂</td></tr><tr><td>running_reward</td><td>█▅▅▄▁▄▅▄▂▆▃▂▆▅▄▄▅▄▆▄▅▆▃▆▅▅▄▆▃▂▆▅▅▃▆▃▄▇▃▅</td></tr></table><br/></div><div class=\"wandb-col\"><h3>Run summary:</h3><br/><table class=\"wandb\"><tr><td>average_episode_length</td><td>84.6</td></tr><tr><td>average_reward</td><td>-208.5927</td></tr><tr><td>episode_length</td><td>106</td></tr><tr><td>running_reward</td><td>-84.99491</td></tr></table><br/></div></div>"
      ],
      "text/plain": [
       "<IPython.core.display.HTML object>"
      ]
     },
     "metadata": {},
     "output_type": "display_data"
    },
    {
     "data": {
      "text/html": [
       " View run <strong style=\"color:#cdcd00\">lunar-lander-baseline</strong> at: <a href='https://wandb.ai/niccolo-niccoli/lunar-lander/runs/f6d16aht' target=\"_blank\">https://wandb.ai/niccolo-niccoli/lunar-lander/runs/f6d16aht</a><br/>Synced 5 W&B file(s), 0 media file(s), 0 artifact file(s) and 0 other file(s)"
      ],
      "text/plain": [
       "<IPython.core.display.HTML object>"
      ]
     },
     "metadata": {},
     "output_type": "display_data"
    },
    {
     "data": {
      "text/html": [
       "Find logs at: <code>.\\wandb\\run-20240427_145320-f6d16aht\\logs</code>"
      ],
      "text/plain": [
       "<IPython.core.display.HTML object>"
      ]
     },
     "metadata": {},
     "output_type": "display_data"
    },
    {
     "data": {
      "text/html": [
       "Successfully finished last run (ID:f6d16aht). Initializing new run:<br/>"
      ],
      "text/plain": [
       "<IPython.core.display.HTML object>"
      ]
     },
     "metadata": {},
     "output_type": "display_data"
    },
    {
     "data": {
      "text/html": [
       "wandb version 0.16.6 is available!  To upgrade, please run:\n",
       " $ pip install wandb --upgrade"
      ],
      "text/plain": [
       "<IPython.core.display.HTML object>"
      ]
     },
     "metadata": {},
     "output_type": "display_data"
    },
    {
     "data": {
      "text/html": [
       "Tracking run with wandb version 0.16.4"
      ],
      "text/plain": [
       "<IPython.core.display.HTML object>"
      ]
     },
     "metadata": {},
     "output_type": "display_data"
    },
    {
     "data": {
      "text/html": [
       "Run data is saved locally in <code>c:\\Users\\super\\Documents\\Uni\\dla-projects\\wandb\\run-20240427_145624-6ow7q42w</code>"
      ],
      "text/plain": [
       "<IPython.core.display.HTML object>"
      ]
     },
     "metadata": {},
     "output_type": "display_data"
    },
    {
     "data": {
      "text/html": [
       "Syncing run <strong><a href='https://wandb.ai/niccolo-niccoli/lunar-lander/runs/6ow7q42w' target=\"_blank\">lunar-lander-baseline</a></strong> to <a href='https://wandb.ai/niccolo-niccoli/lunar-lander' target=\"_blank\">Weights & Biases</a> (<a href='https://wandb.me/run' target=\"_blank\">docs</a>)<br/>"
      ],
      "text/plain": [
       "<IPython.core.display.HTML object>"
      ]
     },
     "metadata": {},
     "output_type": "display_data"
    },
    {
     "data": {
      "text/html": [
       " View project at <a href='https://wandb.ai/niccolo-niccoli/lunar-lander' target=\"_blank\">https://wandb.ai/niccolo-niccoli/lunar-lander</a>"
      ],
      "text/plain": [
       "<IPython.core.display.HTML object>"
      ]
     },
     "metadata": {},
     "output_type": "display_data"
    },
    {
     "data": {
      "text/html": [
       " View run at <a href='https://wandb.ai/niccolo-niccoli/lunar-lander/runs/6ow7q42w' target=\"_blank\">https://wandb.ai/niccolo-niccoli/lunar-lander/runs/6ow7q42w</a>"
      ],
      "text/plain": [
       "<IPython.core.display.HTML object>"
      ]
     },
     "metadata": {},
     "output_type": "display_data"
    },
    {
     "name": "stdout",
     "output_type": "stream",
     "text": [
      "Average reward: -171.32533460246282 @ episode 499\n",
      "Average episode length: 101.1\n",
      "Average reward: -179.363712612298 @ episode 999\n",
      "Average episode length: 103.9\n",
      "Average reward: -178.14151386340296 @ episode 1499\n",
      "Average episode length: 95.6\n",
      "Average reward: -244.24588544761818 @ episode 1999\n",
      "Average episode length: 100.5\n",
      "Average reward: -173.66149115309415 @ episode 2499\n",
      "Average episode length: 100.2\n",
      "Average reward: -208.01539511108172 @ episode 2999\n",
      "Average episode length: 93.0\n",
      "Average reward: -152.7827740324927 @ episode 3499\n",
      "Average episode length: 87.6\n",
      "Average reward: -174.5414883547355 @ episode 3999\n",
      "Average episode length: 87.9\n",
      "Average reward: -231.47287837812124 @ episode 4499\n",
      "Average episode length: 113.9\n",
      "Average reward: -211.29728394612158 @ episode 4999\n",
      "Average episode length: 94.1\n"
     ]
    },
    {
     "data": {
      "text/html": [
       "<style>\n",
       "    table.wandb td:nth-child(1) { padding: 0 10px; text-align: left ; width: auto;} td:nth-child(2) {text-align: left ; width: 100%}\n",
       "    .wandb-row { display: flex; flex-direction: row; flex-wrap: wrap; justify-content: flex-start; width: 100% }\n",
       "    .wandb-col { display: flex; flex-direction: column; flex-basis: 100%; flex: 1; padding: 10px; }\n",
       "    </style>\n",
       "<div class=\"wandb-row\"><div class=\"wandb-col\"><h3>Run history:</h3><br/><table class=\"wandb\"><tr><td>average_episode_length</td><td>▅▅▃▄▄▂▁▁█▃</td></tr><tr><td>average_reward</td><td>▇▆▆▁▆▄█▆▂▄</td></tr><tr><td>episode_length</td><td>▃▃▅▄▃▅▃▄▃▂▁▂▁▃▃▁▃▆▃▁▂▃▂▄▂▁▃▂▃▄▂▁▃▃▂▂█▄▄▂</td></tr><tr><td>running_reward</td><td>▇▇▅▅▆▅▇▄▆▇▅▅▆▆▄▆▃▅▆▇▄▅▇▆█▇█▁▅▄▄▅▅▆▇█▆▅▄▅</td></tr></table><br/></div><div class=\"wandb-col\"><h3>Run summary:</h3><br/><table class=\"wandb\"><tr><td>average_episode_length</td><td>94.1</td></tr><tr><td>average_reward</td><td>-211.29728</td></tr><tr><td>episode_length</td><td>106</td></tr><tr><td>running_reward</td><td>-89.43902</td></tr></table><br/></div></div>"
      ],
      "text/plain": [
       "<IPython.core.display.HTML object>"
      ]
     },
     "metadata": {},
     "output_type": "display_data"
    },
    {
     "data": {
      "text/html": [
       " View run <strong style=\"color:#cdcd00\">lunar-lander-baseline</strong> at: <a href='https://wandb.ai/niccolo-niccoli/lunar-lander/runs/6ow7q42w' target=\"_blank\">https://wandb.ai/niccolo-niccoli/lunar-lander/runs/6ow7q42w</a><br/>Synced 5 W&B file(s), 0 media file(s), 0 artifact file(s) and 0 other file(s)"
      ],
      "text/plain": [
       "<IPython.core.display.HTML object>"
      ]
     },
     "metadata": {},
     "output_type": "display_data"
    },
    {
     "data": {
      "text/html": [
       "Find logs at: <code>.\\wandb\\run-20240427_145624-6ow7q42w\\logs</code>"
      ],
      "text/plain": [
       "<IPython.core.display.HTML object>"
      ]
     },
     "metadata": {},
     "output_type": "display_data"
    },
    {
     "name": "stdout",
     "output_type": "stream",
     "text": [
      "Running rewards\n"
     ]
    },
    {
     "data": {
      "image/png": "[encoded data removed]",
      "text/plain": [
       "<Figure size 640x480 with 1 Axes>"
      ]
     },
     "metadata": {},
     "output_type": "display_data"
    },
    {
     "name": "stdout",
     "output_type": "stream",
     "text": [
      "Avg rewards\n"
     ]
    },
    {
     "data": {
      "image/png": "[encoded data removed]",
      "text/plain": [
       "<Figure size 640x480 with 1 Axes>"
      ]
     },
     "metadata": {},
     "output_type": "display_data"
    },
    {
     "name": "stdout",
     "output_type": "stream",
     "text": [
      "Avg episode lengths\n"
     ]
    },
    {
     "data": {
      "image/png": "[encoded data removed]",
      "text/plain": [
       "<Figure size 640x480 with 1 Axes>"
      ]
     },
     "metadata": {},
     "output_type": "display_data"
    }
   ],
   "source": [
    "# In the new version of Gymnasium you need different environments for rendering and no rendering.\n",
    "# Here we instaintiate two versions of cartpole, one that animates the episodes (which slows everything\n",
    "# down), and another that does not animate.\n",
    "env = gym.make('LunarLander-v2')\n",
    "env_render = gym.make('LunarLander-v2', render_mode = 'human')\n",
    "\n",
    "# Make a policy network.\n",
    "baseline = True\n",
    "if baseline:\n",
    "    policy = LunarPolicyNet(env, hidden_size1=16, hidden_size2=16)\n",
    "    value_net = LunarValueNet(env, hidden_size1=16, hidden_size2=16)\n",
    "else:\n",
    "    policy = PolicyNet(env)\n",
    "\n",
    "# Check environment\n",
    "done = False\n",
    "obs = env_render.reset()\n",
    "while not done:\n",
    "    action = random.choice(range(env_render.action_space.n))\n",
    "    (obs, reward, done, trunc, info)  = env_render.step(action)\n",
    "    env_render.render()\n",
    "    \n",
    "# Train the agent.\n",
    "num_episodes = 5000\n",
    "N = 500\n",
    "running_rewards, avg_rewards, avg_episode_lengths = reinforce(policy, value_net, env, env_render, num_episodes=num_episodes, baseline = baseline, test_every= N, test_episodes=10, use_wandb = True)\n",
    "# reinforce_with_baseline(policy, value_net, env, env_render, num_episodes=num_episodes, test_every= N, test_episodes=10)\n",
    "print(\"Running rewards\")\n",
    "plt.plot(running_rewards)\n",
    "plt.show()\n",
    "\n",
    "print(\"Avg rewards\")\n",
    "# on the x range(1, 200, 100), on the y the avg_rewards\n",
    "plt.plot(range(N, num_episodes+1, N), avg_rewards)\n",
    "plt.show()\n",
    "\n",
    "print(\"Avg episode lengths\")\n",
    "plt.plot(range(N, num_episodes+1, N), avg_episode_lengths)\n",
    "plt.show()\n",
    "\n",
    "# Close up everything\n",
    "env_render.close()\n",
    "env.close()"
   ]
  },
  {
   "cell_type": "code",
   "execution_count": 15,
   "id": "3db7d89f",
   "metadata": {},
   "outputs": [],
   "source": [
    "env_render = gym.make('LunarLander-v2', render_mode='human')\n",
    "for _ in range(10):\n",
    "    run_episode(env_render, policy, value_net)\n",
    "    \n",
    "# If you don't close the environment, the PyGame window stays visible.\n",
    "env_render.close()"
   ]
  }
 ],
 "metadata": {
  "kernelspec": {
   "display_name": "Python 3 (ipykernel)",
   "language": "python",
   "name": "python3"
  },
  "language_info": {
   "codemirror_mode": {
    "name": "ipython",
    "version": 3
   },
   "file_extension": ".py",
   "mimetype": "text/x-python",
   "name": "python",
   "nbconvert_exporter": "python",
   "pygments_lexer": "ipython3",
   "version": "3.12.2"
  }
 },
 "nbformat": 4,
 "nbformat_minor": 5
}
